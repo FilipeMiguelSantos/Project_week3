{
 "cells": [
  {
   "cell_type": "markdown",
   "metadata": {},
   "source": [
    "# Project week 3"
   ]
  },
  {
   "cell_type": "code",
   "execution_count": null,
   "metadata": {},
   "outputs": [],
   "source": [
    "#Libraries\n",
    "from bs4 import BeautifulSoup\n",
    "import pandas as pd\n",
    "import numpy as np\n",
    "import requests\n",
    "import random\n",
    "import time\n",
    "import ipywidgets as widgets\n",
    "from IPython.display import Javascript, display\n",
    "from difflib import SequenceMatcher\n",
    "import spotipy\n",
    "from spotipy.oauth2 import SpotifyClientCredentials\n",
    "from sklearn import datasets\n",
    "from sklearn.preprocessing import StandardScaler\n",
    "from sklearn.cluster import KMeans\n",
    "\n",
    "#credencials\n",
    "\n",
    "spotify = spotipy.Spotify(client_credentials_manager=SpotifyClientCredentials(\n",
    "        client_id='7b1cccc6a20546aa819d65942b6e98e3',\n",
    "        client_secret='47a9a88346464b52823ade52b4be19af'))"
   ]
  },
  {
   "cell_type": "code",
   "execution_count": null,
   "metadata": {},
   "outputs": [],
   "source": [
    "#functions\n",
    "\n",
    "def run_all(ev):\n",
    "    display(Javascript(\"\"\"IPython.notebook.execute_cell_range(\n",
    "                       IPython.notebook.get_selected_index()+1,\n",
    "                       IPython.notebook.get_selected_index()+2)\"\"\"))\n",
    "\n",
    "def similar(a, b):\n",
    "    return SequenceMatcher(None, a, b).ratio()\n",
    "\n",
    "#widgets\n",
    "yes_or_no = widgets.Dropdown(\n",
    "            options = ['','Yes','No'],   \n",
    "            disabled = False,\n",
    "            )\n",
    "\n",
    "button = widgets.Button(button_style='info',description=\"Submit\")\n",
    "button.on_click(run_all)"
   ]
  },
  {
   "cell_type": "code",
   "execution_count": null,
   "metadata": {},
   "outputs": [],
   "source": [
    "#hot charts\n",
    "hot_charts = 'https://www.billboard.com/charts/hot-100'\n",
    "response = requests.get(hot_charts)\n",
    "charts = BeautifulSoup(response.content, 'html.parser')\n"
   ]
  },
  {
   "cell_type": "code",
   "execution_count": null,
   "metadata": {},
   "outputs": [],
   "source": [
    "#DataFrame Billaboard\n",
    "\n",
    "songs = []\n",
    "\n",
    "for music in charts.select(\".chart-element__information__song\"):\n",
    "    songs.append(music.get_text())\n",
    "    \n",
    "artists = []\n",
    "\n",
    "for artist in charts.select(\".chart-element__information__artist\"):\n",
    "    artists.append(artist.get_text())\n",
    "    \n",
    "rankings = []\n",
    "\n",
    "for rank in charts.select(\".chart-element__rank__number\"):\n",
    "    rankings.append(rank.get_text())\n",
    "    \n",
    "other_rankings = []\n",
    "\n",
    "for other in charts.select(\".chart-element__meta\"):\n",
    "    other_rankings.append(other.get_text())\n",
    "    \n",
    "last_week = other_rankings[0::3]\n",
    "peak = other_rankings[1::3]\n",
    "wks_on_chart = other_rankings[2::3]\n",
    "\n",
    "top_charts = pd.DataFrame({\n",
    "    \"Song\": songs,\n",
    "    \"Artist\":artists,\n",
    "    \"Position\":rankings,\n",
    "    \"Last Week Position\":last_week,\n",
    "    \"Peak\": peak,  \n",
    "    \"Weeks on Chart\": wks_on_chart\n",
    "})\n"
   ]
  },
  {
   "cell_type": "code",
   "execution_count": null,
   "metadata": {},
   "outputs": [],
   "source": [
    "#Getting lower case\n",
    "songs_from_billboard = []\n",
    "\n",
    "for song in top_charts['Song']:\n",
    "    songs_from_billboard.append(song.lower())"
   ]
  },
  {
   "cell_type": "code",
   "execution_count": null,
   "metadata": {},
   "outputs": [],
   "source": [
    "#Big DataFrame & Clusters\n",
    "features = pd.read_csv('dataprocess/features_df.csv')\n",
    "all_features = features.copy()\n",
    "features.drop(columns=['Unnamed: 0','id','uri','analysis_url'],inplace=True)\n",
    "features.drop(columns=['type','track_href'], inplace=True)\n",
    "scaler = StandardScaler()\n",
    "x_scaled = scaler.fit_transform(features)\n",
    "x_scaled_df = pd.DataFrame(x_scaled)\n",
    "kmeans = KMeans(n_clusters=8, random_state=1234)\n",
    "kmeans.fit(x_scaled)\n",
    "clusters = kmeans.predict(x_scaled)\n",
    "all_features[\"cluster\"] = clusters"
   ]
  },
  {
   "cell_type": "code",
   "execution_count": null,
   "metadata": {},
   "outputs": [],
   "source": [
    "#Selecting a Song\n",
    "\n",
    "selection = input('Select a song:').lower()\n",
    "\n",
    "selection\n",
    "\n",
    "random_1 = random.randint(1,100)\n",
    "random_2 = random.randint(1,100)\n",
    "random_3 = random.randint(1,100)\n",
    "random_4 = random.randint(1,100)\n",
    "\n",
    "for music in songs_from_billboard:\n",
    "    if similar(music, selection)== 1:\n",
    "        break\n",
    "    elif similar(music, selection)>= 0.80:\n",
    "        selection=music\n",
    "        print('Your Chosen song was:', selection)\n",
    "\n",
    "if selection in songs_from_billboard:\n",
    "    print('We would like to recomend you this song: ', top_charts['Song'].loc[random_1], 'by', top_charts['Artist'].loc[random_1])\n",
    "    time.sleep(2)\n",
    "    print('Would you like to have another suggestion?')\n",
    "    display(yes_or_no)\n",
    "    display(button)\n",
    "else:  \n",
    "    print('We cannot find a Hot Chart song that might match with your taste, but we can provide some suggestions according to the song features you have chosen')\n",
    "    print('Do you want to continue?')\n",
    "    display(yes_or_no)\n",
    "    display(button)\n",
    "    \n",
    "    "
   ]
  },
  {
   "cell_type": "code",
   "execution_count": null,
   "metadata": {},
   "outputs": [],
   "source": [
    "list_feedback = []\n",
    "\n",
    "if yes_or_no.value == 'No':\n",
    "    print(\"Thanks. See you next time.\")\n",
    "else:\n",
    "    print('We would like to suggest you the following songs according to the chosen song features:')\n",
    "    results = spotify.search(q=selection, limit = 10)\n",
    "    features_user = results['tracks']['items'][0]['uri']\n",
    "    feats = spotify.audio_features(features_user)\n",
    "    feature_df = pd.DataFrame(feats)\n",
    "    scaled_input= scaler.transform(feature_df.select_dtypes(exclude = object))\n",
    "    x = kmeans.predict(scaled_input)[0]\n",
    "    feedback=all_features[all_features[\"cluster\"] == x].sample(3)['id'].to_list()\n",
    "    for song in feedback:\n",
    "        name = spotify.track(song)\n",
    "        list_feedback.append(name['name'])\n",
    "    print(list_feedback[0])\n",
    "    print(list_feedback[1])\n",
    "    print(list_feedback[2])"
   ]
  }
 ],
 "metadata": {
  "kernelspec": {
   "display_name": "Python 3",
   "language": "python",
   "name": "python3"
  },
  "language_info": {
   "codemirror_mode": {
    "name": "ipython",
    "version": 3
   },
   "file_extension": ".py",
   "mimetype": "text/x-python",
   "name": "python",
   "nbconvert_exporter": "python",
   "pygments_lexer": "ipython3",
   "version": "3.7.6"
  }
 },
 "nbformat": 4,
 "nbformat_minor": 4
}
